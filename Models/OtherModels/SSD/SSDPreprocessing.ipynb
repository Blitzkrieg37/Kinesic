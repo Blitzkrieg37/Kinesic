{
 "cells": [
  {
   "cell_type": "code",
   "execution_count": 1,
   "metadata": {},
   "outputs": [],
   "source": [
    "import glob\n",
    "import numpy as np"
   ]
  },
  {
   "cell_type": "code",
   "execution_count": 5,
   "metadata": {},
   "outputs": [],
   "source": [
    "import cv2"
   ]
  },
  {
   "cell_type": "code",
   "execution_count": 6,
   "metadata": {},
   "outputs": [],
   "source": [
    "gestures = ['Palm','Two','Four']\n",
    "\n",
    "img_paths = []\n",
    "label_paths = []\n",
    "\n",
    "for i in gestures:\n",
    "    img_paths = img_paths + glob.glob(f\"GestureData/{i}/*/*.png\")\n",
    "    label_paths = label_paths + glob.glob(f\"GestureData/{i}/*/*.txt\")\n",
    "\n",
    "img_paths.sort()\n",
    "label_paths.sort()"
   ]
  },
  {
   "cell_type": "code",
   "execution_count": null,
   "metadata": {},
   "outputs": [],
   "source": [
    "def wfilter(img,blur = False,ker = 3):\n",
    "    ddepth = cv2.CV_16S\n",
    "    scale = 1\n",
    "    delta = 0\n",
    "    img = cv2.resize(img,(64,48),interpolation = cv2.INTER_CUBIC)\n",
    "    grad_y = cv2.Sobel(img,ddepth,0,1, ksize=ker, scale=scale, delta=delta, borderType=cv2.BORDER_DEFAULT)\n",
    "    abs_grad_y = cv2.convertScaleAbs(grad_y)\n",
    "    grad_x = cv2.Sobel(img,ddepth,1,0, ksize=ker, scale=scale, delta=delta, borderType=cv2.BORDER_DEFAULT)\n",
    "    abs_grad_x = cv2.convertScaleAbs(grad_x)\n",
    "\n",
    "    grad = cv2.addWeighted(abs_grad_x,0.5,abs_grad_y,0.5,0)\n",
    "\n",
    "    return grad"
   ]
  },
  {
   "cell_type": "code",
   "execution_count": 8,
   "metadata": {},
   "outputs": [],
   "source": [
    "X = []\n",
    "i = 0\n",
    "for path in img_paths:\n",
    "    X.append(wfilter(cv2.imread(path)))"
   ]
  },
  {
   "cell_type": "code",
   "execution_count": null,
   "metadata": {},
   "outputs": [],
   "source": [
    "cv2.imshow(\"frame\",X[0])\n",
    "cv2.waitKey(30000)\n",
    "cv2.destroyAllWindows()\n",
    "\n",
    "cv2.imshow(\"frame\",wfilter(cv2.imread('0.jpg')))\n",
    "cv2.waitKey(30000)\n",
    "cv2.destroyAllWindows()"
   ]
  },
  {
   "cell_type": "code",
   "execution_count": 11,
   "metadata": {},
   "outputs": [
    {
     "name": "stdout",
     "output_type": "stream",
     "text": [
      "6721\n",
      "6721\n"
     ]
    }
   ],
   "source": [
    "labels = [] \n",
    "\n",
    "gt_coords = []\n",
    "\n",
    "for path in label_paths:\n",
    "    with open(path,'r') as f:\n",
    "        temp = f.read().split()\n",
    "        labels.append(int(temp[0]))\n",
    "        gt_coords.append([float(i) for i in temp[1:5]])\n",
    "\n",
    "print(len(labels))\n",
    "print(len(gt_coords))   \n",
    "    "
   ]
  },
  {
   "cell_type": "code",
   "execution_count": 13,
   "metadata": {},
   "outputs": [],
   "source": [
    "X = np.array(X)\n",
    "labels = np.array(labels)\n",
    "gt_coords = np.array(gt_coords)*300"
   ]
  },
  {
   "cell_type": "code",
   "execution_count": 14,
   "metadata": {},
   "outputs": [
    {
     "data": {
      "text/plain": [
       "(6721,)"
      ]
     },
     "execution_count": 14,
     "metadata": {},
     "output_type": "execute_result"
    }
   ],
   "source": [
    "labels.shape"
   ]
  },
  {
   "cell_type": "code",
   "execution_count": 16,
   "metadata": {},
   "outputs": [],
   "source": [
    "with open(\"TrainingData/ssd_X.npy\",'wb') as f:\n",
    "    np.save(f,X)\n",
    "\n",
    "with open(\"TrainingData/ssd_labels.npy\",'wb') as f:\n",
    "    np.save(f,labels)\n",
    "\n",
    "with open(\"TrainingData/ssd_gt_coords.npy\",'wb') as f:\n",
    "    np.save(f,gt_coords)\n"
   ]
  },
  {
   "cell_type": "code",
   "execution_count": null,
   "metadata": {},
   "outputs": [],
   "source": []
  }
 ],
 "metadata": {
  "kernelspec": {
   "display_name": "Python 3",
   "language": "python",
   "name": "python3"
  },
  "language_info": {
   "codemirror_mode": {
    "name": "ipython",
    "version": 3
   },
   "file_extension": ".py",
   "mimetype": "text/x-python",
   "name": "python",
   "nbconvert_exporter": "python",
   "pygments_lexer": "ipython3",
   "version": "3.6.9"
  }
 },
 "nbformat": 4,
 "nbformat_minor": 4
}
