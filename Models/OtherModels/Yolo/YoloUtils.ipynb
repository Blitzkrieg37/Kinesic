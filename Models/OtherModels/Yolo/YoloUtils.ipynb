{
 "cells": [
  {
   "cell_type": "code",
   "execution_count": 1,
   "metadata": {},
   "outputs": [],
   "source": [
    "import numpy as np"
   ]
  },
  {
   "cell_type": "code",
   "execution_count": 9,
   "metadata": {},
   "outputs": [],
   "source": [
    "def get_y_true(img, label, gt_coords, num_classes, feature_layer_dims, anchors,threshold):\n",
    "    '''\n",
    "    Inputs-: \n",
    "            Image for which y true needs to be returned of shape (?,?,3)\n",
    "            Label for the image - int\n",
    "            Groundth truth box coordinates - python list (format [cx,cy,w,h] all in range [0,1])  \n",
    "            Number of classes(excluding background)- int\n",
    "            List of size of feature layer sides - python list \n",
    "            Size of anchor boxes per layer - Numpy array of shape (num_layers,2) with (w,h) in last axis\n",
    "            \n",
    "    Returns a (?,num_classes+5) numpy vector which reresents ground truth vector for loss calculation\n",
    "    '''\n",
    "    \n",
    "    width,height = img.shape[1],img.shape[0]\n",
    "    \n",
    "    all_boxes = []  # array to house all boxes\n",
    "    \n",
    "    \n",
    "    y_true = []\n",
    "    \n",
    "    for fh,fw in feature_layer_dims:\n",
    "        y_true.append(np.zeros((fh,fw,(5+num_classes))))\n",
    "    \n",
    "    for i,(fh,fw) in enumerate(feature_layer_dims):\n",
    "        \n",
    "        x = np.linspace(0,fw-1,fw)\n",
    "        y = np.linspace(0,fh-1,fh)\n",
    "        \n",
    "        x,y = np.meshgrid(x,y)\n",
    "        \n",
    "        w,h = np.ones((fh,fw))*anchors[i,0], np.ones((fh,fw))*anchors[i,1]\n",
    "        \n",
    "        anchor_boxes = np.stack([x,y,w,h],axis=-1)\n",
    "        \n",
    "        ious = iou([(x+0.5)/fw,(y+0.5)/fh,w,h],gt_coords)\n",
    "        \n",
    "        y_true[i][ious>threshold,4] = -1 \n",
    "    \n",
    "        all_boxes.append(anchor_boxes)\n",
    "    \n",
    "    \n",
    "    best = best_box(anchors,gt_coords)\n",
    "    \n",
    "    best_h,best_w = feature_layer_dims[best]\n",
    "    \n",
    "    gx,gy,gw,gh = gt_coords\n",
    "    \n",
    "    i,j = int(gy*best_h),int(gx*best_w)\n",
    "    y_true[best][i,j,4] = 1         #objectness =1\n",
    "    y_true[best][i,j,label + 5] = 1  # class score = 1\n",
    "    \n",
    "    def sinv(y):\n",
    "        return np.log(y/(1-y))\n",
    "    \n",
    "    y_true[best][i,j,0] = sinv(gx*best_w -j)\n",
    "    y_true[best][i,j,1] = sinv(gy*best_h -i)\n",
    "    y_true[best][i,j,2] = np.log(gw/anchors[best,0])\n",
    "    y_true[best][i,j,3] = np.log(gh/anchors[best,1])\n",
    "    \n",
    "    return y_true\n",
    "        \n",
    "        \n"
   ]
  },
  {
   "cell_type": "code",
   "execution_count": 3,
   "metadata": {},
   "outputs": [],
   "source": [
    "def iou(anchor_boxes, gt_coords):\n",
    "    '''\n",
    "    Return vector with ious of every anchor box with ground truth box\n",
    "    Arguments-:\n",
    "    List of Numpy array with anchor box coordinates [cx,cy,w,h]\n",
    "    List/Numpy array with ground truth coords (cx,cy,w,h)\n",
    "    '''\n",
    "    \n",
    "    cx,cy,w,h = anchor_boxes\n",
    "    x1,y1,x2,y2 = cx-w/2,cy-h/2,cx+w/2,cy+h/2  # convert to corner point format\n",
    "    \n",
    "    gx,gy,gw,gh = gt_coords\n",
    "    \n",
    "    gx1,gy1,gx2,gy2 = gx-gw/2,gy-gh/2,gx+gw/2,gy+gh/2\n",
    "    \n",
    "    #intesection cordinates\n",
    "    xA = np.maximum(x1, gx1)\n",
    "    yA = np.maximum(y1, gy1)\n",
    "    xB = np.minimum(x2, gx2)\n",
    "    yB = np.minimum(y2, gy2)\n",
    "    \n",
    "    interArea = np.maximum((xB - xA ), 0) * np.maximum((yB - yA ), 0)\n",
    "    \n",
    "    abox_area = (x2-x1)*(y2-y1)\n",
    "    \n",
    "    gt_area = (gx2-gx1)*(gy2-gy1)\n",
    "    \n",
    "    iou = interArea / (abox_area + gt_area - interArea)\n",
    "    \n",
    "    return iou\n",
    "    \n",
    "    "
   ]
  },
  {
   "cell_type": "code",
   "execution_count": 11,
   "metadata": {},
   "outputs": [],
   "source": [
    "def best_box(anchor_boxes,gt_coords):\n",
    "    '''\n",
    "    Arguments-:\n",
    "    Groundth truth box coordinates - python list (format [cx,cy,w,h] all in range [0,1])\n",
    "    Size of anchor boxes per layer - Numpy array of shape (num_layers,2) with (w,h) in last axis    \n",
    "    \n",
    "    Returns index of layer with best box\n",
    "    '''\n",
    "    \n",
    "    _,_,gw,gh = gt_coords\n",
    "    \n",
    "    w,h = anchor_boxes[:,0],anchor_boxes[:,1]\n",
    "    \n",
    "    wf = np.minimum(gw,w)\n",
    "    hf = np.minimum(gh,h)\n",
    "    \n",
    "    inter_area = wf*hf\n",
    "    \n",
    "    union_area = w*h + gw*gh - inter_area\n",
    "    \n",
    "    return np.argmax(inter_area/union_area)\n",
    "    \n",
    "    "
   ]
  },
  {
   "cell_type": "code",
   "execution_count": 12,
   "metadata": {},
   "outputs": [
    {
     "name": "stdout",
     "output_type": "stream",
     "text": [
      "(4, 2)\n"
     ]
    },
    {
     "data": {
      "text/plain": [
       "2"
      ]
     },
     "execution_count": 12,
     "metadata": {},
     "output_type": "execute_result"
    }
   ],
   "source": [
    "boxes = np.array(\n",
    "    [[0.2,0.2],\n",
    "     [0.3,0.3],\n",
    "     [0.4,0.4],\n",
    "     [0.5,0.5]]\n",
    ")\n",
    "print(boxes.shape)\n",
    "gt_coords = [1,2,0.4,0.4]\n",
    "best_box(boxes,gt_coords)"
   ]
  },
  {
   "cell_type": "code",
   "execution_count": 13,
   "metadata": {},
   "outputs": [
    {
     "data": {
      "text/plain": [
       "array([0.14285714])"
      ]
     },
     "execution_count": 13,
     "metadata": {},
     "output_type": "execute_result"
    }
   ],
   "source": [
    "lis = [np.array([1]),np.array([1]),np.array([1]),np.array([1])]\n",
    "glis = [1.5,1.5,1,1]\n",
    "\n",
    "iou(lis,glis)"
   ]
  },
  {
   "cell_type": "code",
   "execution_count": 50,
   "metadata": {},
   "outputs": [
    {
     "data": {
      "text/plain": [
       "34.53957599234088"
      ]
     },
     "execution_count": 50,
     "metadata": {},
     "output_type": "execute_result"
    }
   ],
   "source": [
    "def sinv(y):\n",
    "        y = max(y,1e-15)\n",
    "        y = min(1-1e-15,y)\n",
    "        return np.log(y/(1-y))\n",
    "    \n",
    "sinv(1-0.0000000000000000001)"
   ]
  },
  {
   "cell_type": "code",
   "execution_count": 16,
   "metadata": {},
   "outputs": [],
   "source": [
    "get_y_true(np.random.randn(96,128),2,[0.3,0.4,0.5,0.6],4,[(3,4),(6,8),(12,16)],np.array([[0.55,0.55],[0.5,0.6],[0.6,0.5]]))a="
   ]
  },
  {
   "cell_type": "code",
   "execution_count": 45,
   "metadata": {},
   "outputs": [
    {
     "data": {
      "text/plain": [
       "(3, 4, 9)"
      ]
     },
     "execution_count": 45,
     "metadata": {},
     "output_type": "execute_result"
    }
   ],
   "source": [
    "a[0].shape"
   ]
  },
  {
   "cell_type": "code",
   "execution_count": 25,
   "metadata": {},
   "outputs": [],
   "source": [
    "np.set_printoptions(formatter={'float': \"\\t{: 0.0f}\\t\".format})"
   ]
  },
  {
   "cell_type": "code",
   "execution_count": 51,
   "metadata": {},
   "outputs": [],
   "source": [
    "import tensorflow as tf"
   ]
  },
  {
   "cell_type": "code",
   "execution_count": 56,
   "metadata": {},
   "outputs": [],
   "source": [
    "a=tf.constant(5)"
   ]
  },
  {
   "cell_type": "code",
   "execution_count": 93,
   "metadata": {},
   "outputs": [
    {
     "data": {
      "text/plain": [
       "<tf.Tensor: shape=(4,), dtype=float32, numpy=array([\t 1\t, \t 1\t, \t 1\t, \t 1\t], dtype=float32)>"
      ]
     },
     "execution_count": 93,
     "metadata": {},
     "output_type": "execute_result"
    }
   ],
   "source": [
    "a = tf.constant([0.0,0,3.0,4.0])\n",
    "b = tf.constant([1,1,2.0,3])\n",
    "1-tf.cast(tf.equal(a,2),dtype = tf.float32)"
   ]
  },
  {
   "cell_type": "code",
   "execution_count": 94,
   "metadata": {},
   "outputs": [],
   "source": [
    "def mse(y_true,y_pred):\n",
    "    \n",
    "    loss = tf.square(y_true-y_pred)\n",
    "    return tf.reduce_sum(loss,axis=-1)\n",
    "\n",
    "def bce(y_true,y_pred):\n",
    "    loss = y_true*tf.math.log(y_pred) + (1.0-y_true+1e-15)*tf.math.log(1-y_pred+1e-15)\n",
    "    print(loss)\n",
    "    \n",
    "    return -tf.reduce_sum(loss,axis=-1)"
   ]
  },
  {
   "cell_type": "code",
   "execution_count": 112,
   "metadata": {},
   "outputs": [
    {
     "data": {
      "text/plain": [
       "<tf.Tensor: shape=(4,), dtype=float32, numpy=array([\t 1\t, \t 2\t, \t 2500\t, \t 10000\t], dtype=float32)>"
      ]
     },
     "execution_count": 112,
     "metadata": {},
     "output_type": "execute_result"
    }
   ],
   "source": [
    "x = tf.constant([-1.0e0, 1.5e0, 50.0e0, 100.0e0],dtype = tf.float32)\n",
    "tf.square(x)\n"
   ]
  },
  {
   "cell_type": "code",
   "execution_count": null,
   "metadata": {},
   "outputs": [],
   "source": []
  },
  {
   "cell_type": "code",
   "execution_count": null,
   "metadata": {},
   "outputs": [],
   "source": []
  }
 ],
 "metadata": {
  "kernelspec": {
   "display_name": "Python 3",
   "language": "python",
   "name": "python3"
  },
  "language_info": {
   "codemirror_mode": {
    "name": "ipython",
    "version": 3
   },
   "file_extension": ".py",
   "mimetype": "text/x-python",
   "name": "python",
   "nbconvert_exporter": "python",
   "pygments_lexer": "ipython3",
   "version": "3.6.9"
  }
 },
 "nbformat": 4,
 "nbformat_minor": 4
}
