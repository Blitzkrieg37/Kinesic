{
 "cells": [
  {
   "cell_type": "code",
   "execution_count": null,
   "metadata": {
    "colab": {},
    "colab_type": "code",
    "id": "dTSzUB-5W5H5"
   },
   "outputs": [],
   "source": [
    "import argparse\n",
    "import os\n",
    "import numpy as np\n",
    "from keras.layers import Conv2D, Input, BatchNormalization, LeakyReLU, ZeroPadding2D, UpSampling2D,Dense,Flatten,MaxPooling2D\n",
    "from keras.layers.merge import add, concatenate\n",
    "from keras.models import Model\n",
    "import struct\n",
    "import cv2\n",
    "import glob"
   ]
  },
  {
   "cell_type": "code",
   "execution_count": null,
   "metadata": {
    "colab": {
     "base_uri": "https://localhost:8080/",
     "height": 35
    },
    "colab_type": "code",
    "id": "D4LeH_ZTW9mV",
    "outputId": "cec4ba55-d893-4b8c-c0ec-cf396af24b38"
   },
   "outputs": [
    {
     "name": "stdout",
     "output_type": "stream",
     "text": [
      "Drive already mounted at /content/drive; to attempt to forcibly remount, call drive.mount(\"/content/drive\", force_remount=True).\n"
     ]
    }
   ],
   "source": [
    "from google.colab import drive\n",
    "drive.mount('/content/drive')"
   ]
  },
  {
   "cell_type": "code",
   "execution_count": null,
   "metadata": {
    "colab": {},
    "colab_type": "code",
    "id": "1mIbuGv0XAXN"
   },
   "outputs": [],
   "source": [
    "import tensorflow as tf\n",
    "import keras as K"
   ]
  },
  {
   "cell_type": "code",
   "execution_count": null,
   "metadata": {
    "colab": {
     "base_uri": "https://localhost:8080/",
     "height": 70
    },
    "colab_type": "code",
    "id": "gnj55_kXXCHT",
    "outputId": "077f36bf-9068-43e0-a8d7-586f5029d323"
   },
   "outputs": [
    {
     "name": "stdout",
     "output_type": "stream",
     "text": [
      "classif_2_labels.npy  classif_3_X.npy\t  ssd_gt_coords.npy  yolo_gt_coords.npy\n",
      "classif_2_X.npy       classif_labels.npy  ssd_labels.npy     yolo_labels.npy\n",
      "classif_3_labels.npy  classif_X.npy\t  ssd_X.npy\t     yolo_X.npy\n"
     ]
    }
   ],
   "source": [
    "!ls '/content/drive/My Drive/TrainingData'"
   ]
  },
  {
   "cell_type": "code",
   "execution_count": null,
   "metadata": {
    "colab": {
     "base_uri": "https://localhost:8080/",
     "height": 35
    },
    "colab_type": "code",
    "id": "9K115E5AnDjO",
    "outputId": "78099086-3251-48a0-e9ae-53ece2e54158"
   },
   "outputs": [
    {
     "name": "stdout",
     "output_type": "stream",
     "text": [
      "(2956, 200, 120, 1) (2956,)\n"
     ]
    }
   ],
   "source": [
    "X = np.load('/content/drive/My Drive/TrainingData/classif_2_X.npy')\n",
    "y = np.load('/content/drive/My Drive/TrainingData/classif_2_labels.npy')\n",
    "print(X.shape,y.shape)"
   ]
  },
  {
   "cell_type": "code",
   "execution_count": null,
   "metadata": {
    "colab": {},
    "colab_type": "code",
    "id": "ddY3lga1ae_v"
   },
   "outputs": [],
   "source": [
    "def createModel(num_classes):\n",
    "  inp = Input(shape=(200,120,1))\n",
    "\n",
    "  x = Conv2D(32,(3,3),strides = 2,padding='same',activation='relu')(inp)\n",
    "  x = Conv2D(32,(3,3),padding='same',activation='relu')(x)\n",
    "  x = MaxPooling2D((2,2))(x)\n",
    "  x = Conv2D(32,(3,3),strides = 2,padding='same',activation='relu')(x)\n",
    "  x = Conv2D(32,(3,3),padding='same',activation='relu')(x)\n",
    "  x = MaxPooling2D((2,2))(x)\n",
    "  x = Conv2D(32,(3,3),strides = 2,padding='same',activation='relu')(x)\n",
    "  x = Conv2D(32,(3,3),padding='same',activation='relu')(x)\n",
    "  x = MaxPooling2D((2,2))(x)\n",
    "  \n",
    "  x = Flatten()(x)\n",
    "  x = Dense(50,activation='relu')(x)\n",
    "\n",
    "  x =  Dense(num_classes,activation='softmax')(x)\n",
    "  \n",
    "  model = Model(inputs=inp,outputs=x)\n",
    "\n",
    "  return model"
   ]
  },
  {
   "cell_type": "code",
   "execution_count": null,
   "metadata": {
    "colab": {
     "base_uri": "https://localhost:8080/",
     "height": 618
    },
    "colab_type": "code",
    "id": "m2x-EvyFZHla",
    "outputId": "acf28263-1e15-4020-f400-b0c25be6f558"
   },
   "outputs": [
    {
     "name": "stdout",
     "output_type": "stream",
     "text": [
      "Model: \"model_2\"\n",
      "_________________________________________________________________\n",
      "Layer (type)                 Output Shape              Param #   \n",
      "=================================================================\n",
      "input_2 (InputLayer)         (None, 200, 120, 1)       0         \n",
      "_________________________________________________________________\n",
      "conv2d_7 (Conv2D)            (None, 100, 60, 32)       320       \n",
      "_________________________________________________________________\n",
      "conv2d_8 (Conv2D)            (None, 100, 60, 32)       9248      \n",
      "_________________________________________________________________\n",
      "max_pooling2d_4 (MaxPooling2 (None, 50, 30, 32)        0         \n",
      "_________________________________________________________________\n",
      "conv2d_9 (Conv2D)            (None, 25, 15, 32)        9248      \n",
      "_________________________________________________________________\n",
      "conv2d_10 (Conv2D)           (None, 25, 15, 32)        9248      \n",
      "_________________________________________________________________\n",
      "max_pooling2d_5 (MaxPooling2 (None, 12, 7, 32)         0         \n",
      "_________________________________________________________________\n",
      "conv2d_11 (Conv2D)           (None, 6, 4, 32)          9248      \n",
      "_________________________________________________________________\n",
      "conv2d_12 (Conv2D)           (None, 6, 4, 32)          9248      \n",
      "_________________________________________________________________\n",
      "max_pooling2d_6 (MaxPooling2 (None, 3, 2, 32)          0         \n",
      "_________________________________________________________________\n",
      "flatten_2 (Flatten)          (None, 192)               0         \n",
      "_________________________________________________________________\n",
      "dense_3 (Dense)              (None, 50)                9650      \n",
      "_________________________________________________________________\n",
      "dense_4 (Dense)              (None, 6)                 306       \n",
      "=================================================================\n",
      "Total params: 56,516\n",
      "Trainable params: 56,516\n",
      "Non-trainable params: 0\n",
      "_________________________________________________________________\n"
     ]
    }
   ],
   "source": [
    "model = createModel(3)\n",
    "model.summary()"
   ]
  },
  {
   "cell_type": "code",
   "execution_count": null,
   "metadata": {
    "colab": {},
    "colab_type": "code",
    "id": "d_nu9aXWa4s5"
   },
   "outputs": [],
   "source": [
    "model.compile(optimizer='adam', loss='categorical_crossentropy', metrics=['accuracy'])"
   ]
  },
  {
   "cell_type": "code",
   "execution_count": null,
   "metadata": {
    "colab": {
     "base_uri": "https://localhost:8080/",
     "height": 35
    },
    "colab_type": "code",
    "id": "MA_tCyTyUAnV",
    "outputId": "ccbaba77-f652-4c49-a264-85d989b2de20"
   },
   "outputs": [
    {
     "data": {
      "text/plain": [
       "(2660, 6)"
      ]
     },
     "execution_count": 27,
     "metadata": {
      "tags": []
     },
     "output_type": "execute_result"
    }
   ],
   "source": [
    "from sklearn.utils import shuffle\n",
    "X, y = shuffle(X, y, random_state=0)\n",
    "\n",
    "from sklearn.model_selection import train_test_split\n",
    "\n",
    "X_train, X_test, y_train, y_test = train_test_split(X, y, test_size=0.1, random_state=42)\n",
    "\n",
    "y_train = K.utils.to_categorical(y_train)\n",
    "y_test = K.utils.to_categorical(y_test)\n",
    "y_train.shape"
   ]
  },
  {
   "cell_type": "code",
   "execution_count": null,
   "metadata": {
    "colab": {
     "base_uri": "https://localhost:8080/",
     "height": 88
    },
    "colab_type": "code",
    "id": "p22N498db5cG",
    "outputId": "74108578-a0e9-4a90-b14c-a955e2590bd5"
   },
   "outputs": [
    {
     "name": "stdout",
     "output_type": "stream",
     "text": [
      "Train on 2660 samples, validate on 296 samples\n",
      "Epoch 1/1\n",
      "2660/2660 [==============================] - 2s 582us/step - loss: 0.0232 - accuracy: 0.9944 - val_loss: 0.2120 - val_accuracy: 0.9662\n"
     ]
    },
    {
     "data": {
      "text/plain": [
       "<keras.callbacks.callbacks.History at 0x7fcfcbb0a4e0>"
      ]
     },
     "execution_count": 31,
     "metadata": {
      "tags": []
     },
     "output_type": "execute_result"
    }
   ],
   "source": [
    "model.fit(X_train, y_train, batch_size=128,\n",
    "                        validation_data=(X_test, y_test),\n",
    "                         epochs=1,workers=4)"
   ]
  },
  {
   "cell_type": "code",
   "execution_count": null,
   "metadata": {
    "colab": {},
    "colab_type": "code",
    "id": "0zHCQtKFcoKV"
   },
   "outputs": [],
   "source": [
    "model.save('/content/drive/My Drive/gesture_2_classifier')"
   ]
  },
  {
   "cell_type": "code",
   "execution_count": null,
   "metadata": {
    "colab": {
     "base_uri": "https://localhost:8080/",
     "height": 441
    },
    "colab_type": "code",
    "id": "pc3Q6ZQlU36d",
    "outputId": "2122bc89-9327-42ab-fa51-741605b96dcd"
   },
   "outputs": [
    {
     "name": "stdout",
     "output_type": "stream",
     "text": [
      "'ASSIGNMENT NO-4.gdoc'\n",
      " ChatON.zip\n",
      "'Colab Notebooks'\n",
      "'Copy of Documentation for category 2 and 3.gdoc'\n",
      "'Copy of ITSP 2020 Phase 1 Submission Template.gdoc'\n",
      " gesture_2_classifier\n",
      " gesture_3_classifier\n",
      " gesture_classifier\n",
      " gesture_classifier1\n",
      " gesture_classifier2\n",
      " GestureData\n",
      "'How to get started with Drive.pdf'\n",
      "'Intrusion Detection System- Project Proposal.gdoc'\n",
      "'ITS20031 Kinesic.gdoc'\n",
      " ITS20031-Kinesic.gdoc\n",
      " Kinesic\n",
      "'L.A.M.A. AI - Project Proposal.gdoc'\n",
      "'Plan of Action Doc ITSP.gdoc'\n",
      "'Report For Review Meet.gdoc'\n",
      " tester5.py\n",
      " tester6.py\n",
      " tester.py\n",
      " TrainingData\n",
      "'Why The Hype Around GANs -Project Proposal.gdoc'\n"
     ]
    }
   ],
   "source": [
    "!ls '/content/drive/My Drive'"
   ]
  },
  {
   "cell_type": "code",
   "execution_count": null,
   "metadata": {
    "colab": {
     "base_uri": "https://localhost:8080/",
     "height": 158
    },
    "colab_type": "code",
    "id": "Du47iOISU9d0",
    "outputId": "6882b932-f547-4223-c273-c3707fdf09a6"
   },
   "outputs": [
    {
     "data": {
      "text/plain": [
       "array([[1.13370617e-15, 3.48548446e-16, 2.00666044e-08, 1.00000000e+00],\n",
       "       [8.10963330e-13, 9.99999642e-01, 3.96884474e-07, 1.23421440e-09],\n",
       "       [2.56398602e-29, 2.31524540e-30, 2.25069105e-15, 1.00000000e+00],\n",
       "       ...,\n",
       "       [1.18751025e-11, 6.41348947e-07, 9.99882698e-01, 1.16662341e-04],\n",
       "       [2.73527173e-10, 9.99743283e-01, 2.56681960e-04, 1.36016531e-08],\n",
       "       [2.11453655e-09, 9.99967575e-01, 3.22288834e-05, 1.61310680e-07]],\n",
       "      dtype=float32)"
      ]
     },
     "execution_count": 15,
     "metadata": {
      "tags": []
     },
     "output_type": "execute_result"
    }
   ],
   "source": [
    "model.predict(X_train)"
   ]
  },
  {
   "cell_type": "code",
   "execution_count": null,
   "metadata": {
    "colab": {},
    "colab_type": "code",
    "id": "Z5TWt3abVwQE"
   },
   "outputs": [],
   "source": []
  }
 ],
 "metadata": {
  "accelerator": "GPU",
  "colab": {
   "name": "ClassifcationTrial.ipynb",
   "provenance": []
  },
  "kernelspec": {
   "display_name": "Python 3",
   "language": "python",
   "name": "python3"
  },
  "language_info": {
   "codemirror_mode": {
    "name": "ipython",
    "version": 3
   },
   "file_extension": ".py",
   "mimetype": "text/x-python",
   "name": "python",
   "nbconvert_exporter": "python",
   "pygments_lexer": "ipython3",
   "version": "3.6.9"
  }
 },
 "nbformat": 4,
 "nbformat_minor": 1
}
