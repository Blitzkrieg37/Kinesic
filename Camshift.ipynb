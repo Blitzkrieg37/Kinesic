{
 "cells": [
  {
   "cell_type": "code",
   "execution_count": null,
   "metadata": {},
   "outputs": [],
   "source": [
    "import cv2 as cv\n",
    "import numpy as np"
   ]
  },
  {
   "cell_type": "code",
   "execution_count": null,
   "metadata": {},
   "outputs": [],
   "source": [
    "lower = np.array([0, 10, 60], dtype = \"uint8\") \n",
    "upper = np.array([20, 150, 255], dtype = \"uint8\")"
   ]
  },
  {
   "cell_type": "code",
   "execution_count": null,
   "metadata": {},
   "outputs": [],
   "source": [
    "cap=cv.VideoCapture(0)\n",
    "while True:\n",
    "    ret,frame = cap.read()\n",
    "    frame = cv.flip(frame,1)\n",
    "    conv=cv.cvtColor(frame,cv.COLOR_BGR2HSV)\n",
    "    skinMask=cv.inRange(conv,lower,upper)\n",
    "    skin=cv.bitwise_and(frame,frame,mask=skinMask)\n",
    "    _, thresh = cv.threshold(diff, 100, 255, cv.THRESH_BINARY)\n",
    "    cv.imshow('kuul',skin)\n",
    "    k = cv.waitKey(30)\n",
    "    if k == ord('k'):\n",
    "            break\n",
    "        \n",
    "cap.release()\n",
    "cv.destroyAllWindows()"
   ]
  },
  {
   "cell_type": "code",
   "execution_count": null,
   "metadata": {},
   "outputs": [],
   "source": [
    "frame_count=0\n",
    "cap=cv.VideoCapture(0)\n",
    "while True:\n",
    "    ret,frame = cap.read()\n",
    "    frame = cv.flip(frame,1)\n",
    "    if frame_count==0:\n",
    "        background=frame\n",
    "    diff = cv.absdiff(background.astype(\"uint8\"), frame) \n",
    "    _, thresh = cv.threshold(diff, 100, 255, cv.THRESH_BINARY+cv.THRESH_OTSU)\n",
    "    cv.imshow('Thresholded', thresh)\n",
    "    k = cv.waitKey(30)\n",
    "    if k == ord('k'):\n",
    "            break\n",
    "        \n",
    "cap.release()\n",
    "cv.destroyAllWindows()"
   ]
  },
  {
   "cell_type": "code",
   "execution_count": null,
   "metadata": {},
   "outputs": [],
   "source": [
    "frame_count=0\n",
    "cap = cv.VideoCapture(0)\n",
    "r,h,c,w = 300,300,300,300  # simply hardcoded the values\n",
    "# take first frame of the video\n",
    "ret=cap.set(3,900)\n",
    "ret=cap.set(4,900)\n",
    "ret,frame = cap.read()\n",
    "\n",
    "\n",
    "# setup initial location of window\n",
    "\n",
    "track_window = (c,r,w,h)\n",
    "\n",
    "# set up the ROI for tracking\n",
    "roi = frame[r:r+h, c:c+w]\n",
    "hsv_roi =  cv.cvtColor(frame, cv.COLOR_BGR2HSV)\n",
    "mask = cv.inRange(hsv_roi,lower,upper)\n",
    "roi_hist = cv.calcHist([hsv_roi],[0],mask,[180],[0,180])\n",
    "cv.normalize(roi_hist,roi_hist,0,255,cv.NORM_MINMAX)\n",
    "\n",
    "# Setup the termination criteria, either 10 iteration or move by atleast 1 pt\n",
    "term_crit = ( cv.TERM_CRITERIA_EPS | cv.TERM_CRITERIA_COUNT, 10, 1 )\n",
    "\n",
    "while(1):\n",
    "    ret ,frame = cap.read()\n",
    "    \n",
    "    frame =cv.flip(frame,1)\n",
    "    \n",
    "    \n",
    "    if ret == True:\n",
    "        hsv = cv.cvtColor(frame, cv.COLOR_BGR2HSV)\n",
    "        dst = cv.calcBackProject([hsv],[0],roi_hist,[0,180],1)\n",
    "\n",
    "        # apply meanshift to get the new location\n",
    "        ret, track_window = cv.meanShift(dst, track_window, term_crit)\n",
    "\n",
    "    \n",
    "      # Draw it on image\n",
    "        x,y,w,h = track_window\n",
    "        img2 = cv.rectangle(frame, (x,y), (x+w,y+h), 255,2)\n",
    "        cv.imshow('img2',img2)\n",
    "\n",
    "\n",
    "        k = cv.waitKey(60) & 0xff\n",
    "        if k == ord('b'):\n",
    "            break\n",
    "    \n",
    "\n",
    "cv.destroyAllWindows()\n",
    "cap.release()"
   ]
  },
  {
   "cell_type": "code",
   "execution_count": null,
   "metadata": {},
   "outputs": [],
   "source": [
    "def detect_face(frame, block=False, colour=(0, 0, 0)):\n",
    "    fill = [1, -1][block]\n",
    "    face_cascade = cv.CascadeClassifier(\n",
    "        cv.data.haarcascades + 'haarcascade_frontalface_default.xml')\n",
    "\n",
    "    gray = cv.cvtColor(frame, cv.COLOR_BGR2GRAY)\n",
    "    faces = face_cascade.detectMultiScale(gray, 1.1, 5)\n",
    "    area = 0\n",
    "    X = Y = W = H = 0\n",
    "    for (x, y, w, h) in faces:\n",
    "        if w * h > area:\n",
    "            area = w * h\n",
    "            X, Y, W, H = x, y, w, h\n",
    "    cv.rectangle(frame, (X, Y), (X + W, Y + H), colour, fill)"
   ]
  },
  {
   "cell_type": "code",
   "execution_count": null,
   "metadata": {},
   "outputs": [],
   "source": [
    "while frame_count==0:\n",
    "    cv.rectangle(frame, (c, r), (c+w, r+h), (255,0,0), 2)\n",
    "    cv.imshow(\"place_hand\",frame)\n",
    "    k = cv.waitKey(60) & 0xff\n",
    "    if k == ord('h'):\n",
    "            frame_count=2\n",
    "            break"
   ]
  },
  {
   "cell_type": "code",
   "execution_count": null,
   "metadata": {},
   "outputs": [],
   "source": [
    " face_cascade = cv.CascadeClassifier(\n",
    "        cv.data.haarcascades + 'haarcascade_frontalface_default.xml')"
   ]
  }
 ],
 "metadata": {
  "kernelspec": {
   "display_name": "Python 3",
   "language": "python",
   "name": "python3"
  },
  "language_info": {
   "codemirror_mode": {
    "name": "ipython",
    "version": 3
   },
   "file_extension": ".py",
   "mimetype": "text/x-python",
   "name": "python",
   "nbconvert_exporter": "python",
   "pygments_lexer": "ipython3",
   "version": "3.8.2"
  }
 },
 "nbformat": 4,
 "nbformat_minor": 2
}
